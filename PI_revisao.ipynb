{
 "cells": [
  {
   "cell_type": "markdown",
   "metadata": {},
   "source": [
    "# Revisão para a PI"
   ]
  },
  {
   "cell_type": "markdown",
   "metadata": {},
   "source": [
    "## Métodos Úteis\n",
    "\n",
    "### AVG, SUM, COUNT, MAX e MIN\n",
    "\n",
    "```mysql\n",
    "SELECT\n",
    "\n",
    "    avg(preco) as preco_medio,\n",
    "    \n",
    "    sum(preco) as preco_total,\n",
    "\n",
    "    count(id_produto) as qtde_produtos,\n",
    "\n",
    "    max(preco) as maior_preco,\n",
    "\n",
    "    min(preco) as menor_preco,\n",
    "\n",
    "FROM produtos\n",
    "```\n",
    "\n",
    "### CONCAT E GROUPCONCAT\n",
    "\n",
    "```mysql\n",
    "SELECT\n",
    "\n",
    "    CONCAT(l.nome, ' ', l.sobrenome) as nome_completo,\n",
    "\n",
    "    GROUPCONCAT(DISTINCT li.nome_livro)\n",
    "\n",
    "FROM leitor l\n",
    "INNER JOIN leitura lt USING (id_leitor)\n",
    "INNER JOIN livro li USING (id_livro)\n",
    "GROUP BY l.nome;\n",
    "\n",
    "\n",
    "FROM produtos\n",
    "```"
   ]
  }
 ],
 "metadata": {
  "language_info": {
   "name": "python"
  }
 },
 "nbformat": 4,
 "nbformat_minor": 2
}
